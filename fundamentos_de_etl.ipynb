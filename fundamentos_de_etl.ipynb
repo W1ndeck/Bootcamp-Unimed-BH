{
 "cells": [
  {
   "cell_type": "markdown",
   "metadata": {},
   "source": [
    "# Fundamentos de ETL(Extract, Transform, Load)\n",
    "\n",
    "ETLs são ferramente de software que cuja função é a extração de dados de diversos sistemas transformação desses dados conforme as nescessidades e por fim o carregamento desses dados geralmente para um Data Smart ou Data Warehouse. "
   ]
  },
  {
   "cell_type": "markdown",
   "metadata": {},
   "source": [
    "### Extract:\n",
    "\n",
    "- Importar dados de diferentes tipos de formatos csv, banco de dados, JSON etc\n",
    "\n",
    "### Trasform:\n",
    "\n",
    "- Gerar colunas, linhas, tabelas, mesclar, acrescentar\n",
    "\n",
    "### Load:\n",
    "\n",
    "- Carregar para o modelo de dados"
   ]
  }
 ],
 "metadata": {
  "kernelspec": {
   "display_name": "Python 3.10.5 64-bit",
   "language": "python",
   "name": "python3"
  },
  "language_info": {
   "name": "python",
   "version": "3.10.5"
  },
  "orig_nbformat": 4,
  "vscode": {
   "interpreter": {
    "hash": "0f4aad36e1a7834f44c14e84b98527cfbefef55e7a336cfec74130d804d73c8f"
   }
  }
 },
 "nbformat": 4,
 "nbformat_minor": 2
}
